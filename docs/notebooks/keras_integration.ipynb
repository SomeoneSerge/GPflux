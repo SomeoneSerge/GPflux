{
 "cells": [
  {
   "cell_type": "markdown",
   "id": "a5a76bfa",
   "metadata": {
    "cell_marker": "\"\"\"",
    "lines_to_next_cell": 0
   },
   "source": [
    "# Keras integration\n",
    "\n",
    "TODO: Some explanation..."
   ]
  },
  {
   "cell_type": "code",
   "execution_count": 1,
   "id": "8c8cb8b5",
   "metadata": {
    "execution": {
     "iopub.execute_input": "2022-02-02T17:08:46.878151Z",
     "iopub.status.busy": "2022-02-02T17:08:46.877665Z",
     "iopub.status.idle": "2022-02-02T17:08:49.237753Z",
     "shell.execute_reply": "2022-02-02T17:08:49.238157Z"
    }
   },
   "outputs": [
    {
     "name": "stderr",
     "output_type": "stream",
     "text": [
      "2022-02-02 17:08:47.111257: W tensorflow/stream_executor/platform/default/dso_loader.cc:64] Could not load dynamic library 'libcudart.so.11.0'; dlerror: libcudart.so.11.0: cannot open shared object file: No such file or directory; LD_LIBRARY_PATH: /opt/hostedtoolcache/Python/3.7.12/x64/lib\n",
      "2022-02-02 17:08:47.111288: I tensorflow/stream_executor/cuda/cudart_stub.cc:29] Ignore above cudart dlerror if you do not have a GPU set up on your machine.\n"
     ]
    }
   ],
   "source": [
    "import numpy as np\n",
    "import tensorflow as tf\n",
    "import gpflow\n",
    "import gpflux\n",
    "from gpflow.ci_utils import ci_niter\n",
    "\n",
    "import matplotlib.pyplot as plt"
   ]
  },
  {
   "cell_type": "code",
   "execution_count": 2,
   "id": "33f905e8",
   "metadata": {
    "execution": {
     "iopub.execute_input": "2022-02-02T17:08:49.242297Z",
     "iopub.status.busy": "2022-02-02T17:08:49.241802Z",
     "iopub.status.idle": "2022-02-02T17:08:49.244898Z",
     "shell.execute_reply": "2022-02-02T17:08:49.244472Z"
    }
   },
   "outputs": [],
   "source": [
    "tf.keras.backend.set_floatx(\"float64\")"
   ]
  },
  {
   "cell_type": "code",
   "execution_count": 3,
   "id": "7fb68380",
   "metadata": {
    "execution": {
     "iopub.execute_input": "2022-02-02T17:08:49.249858Z",
     "iopub.status.busy": "2022-02-02T17:08:49.248851Z",
     "iopub.status.idle": "2022-02-02T17:08:49.250486Z",
     "shell.execute_reply": "2022-02-02T17:08:49.250855Z"
    }
   },
   "outputs": [],
   "source": [
    "%matplotlib inline"
   ]
  },
  {
   "cell_type": "code",
   "execution_count": 4,
   "id": "d4475a88",
   "metadata": {
    "execution": {
     "iopub.execute_input": "2022-02-02T17:08:49.254340Z",
     "iopub.status.busy": "2022-02-02T17:08:49.253901Z",
     "iopub.status.idle": "2022-02-02T17:08:49.258038Z",
     "shell.execute_reply": "2022-02-02T17:08:49.257598Z"
    }
   },
   "outputs": [],
   "source": [
    "d = np.load(\"../../tests/snelson1d.npz\")\n",
    "X, Y = d[\"X\"], d[\"Y\"]\n",
    "num_data, input_dim = X.shape\n",
    "_, output_dim = Y.shape"
   ]
  },
  {
   "cell_type": "code",
   "execution_count": 5,
   "id": "53e20fa6",
   "metadata": {
    "execution": {
     "iopub.execute_input": "2022-02-02T17:08:49.264172Z",
     "iopub.status.busy": "2022-02-02T17:08:49.261595Z",
     "iopub.status.idle": "2022-02-02T17:08:49.379412Z",
     "shell.execute_reply": "2022-02-02T17:08:49.378969Z"
    }
   },
   "outputs": [
    {
     "data": {
      "image/png": "[encoded data removed]",
      "text/plain": [
       "<Figure size 432x288 with 1 Axes>"
      ]
     },
     "metadata": {
      "needs_background": "light"
     },
     "output_type": "display_data"
    }
   ],
   "source": [
    "plt.figure()\n",
    "plt.plot(X, Y, \".\")\n",
    "plt.show()"
   ]
  },
  {
   "cell_type": "code",
   "execution_count": 6,
   "id": "9077cbd8",
   "metadata": {
    "execution": {
     "iopub.execute_input": "2022-02-02T17:08:49.385457Z",
     "iopub.status.busy": "2022-02-02T17:08:49.384953Z",
     "iopub.status.idle": "2022-02-02T17:08:49.388153Z",
     "shell.execute_reply": "2022-02-02T17:08:49.387741Z"
    }
   },
   "outputs": [],
   "source": [
    "def create_layers():\n",
    "    num_inducing = 13\n",
    "    hidden_dim = 1\n",
    "    Z = np.linspace(X.min() - 0.1, X.max() + 0.1, num_inducing).reshape(-1, 1)\n",
    "\n",
    "    layer1 = gpflux.helpers.construct_gp_layer(\n",
    "        num_data, num_inducing, input_dim, hidden_dim, z_init=Z.copy()\n",
    "    )\n",
    "    layer1.mean_function = gpflow.mean_functions.Identity()  # TODO: pass layer_type instead\n",
    "    layer1.q_sqrt.assign(layer1.q_sqrt * 0.01)\n",
    "\n",
    "    layer2 = gpflux.helpers.construct_gp_layer(\n",
    "        num_data, num_inducing, hidden_dim, output_dim, z_init=Z.copy()\n",
    "    )\n",
    "\n",
    "    likelihood_layer = gpflux.layers.LikelihoodLayer(gpflow.likelihoods.Gaussian(0.01))\n",
    "\n",
    "    return layer1, layer2, likelihood_layer"
   ]
  },
  {
   "cell_type": "code",
   "execution_count": 7,
   "id": "15aa7eb6",
   "metadata": {
    "execution": {
     "iopub.execute_input": "2022-02-02T17:08:49.393032Z",
     "iopub.status.busy": "2022-02-02T17:08:49.391897Z",
     "iopub.status.idle": "2022-02-02T17:08:49.393555Z",
     "shell.execute_reply": "2022-02-02T17:08:49.393966Z"
    }
   },
   "outputs": [],
   "source": [
    "def create_model(model_class):\n",
    "    \"\"\"\n",
    "    We pass in `model_class` to make it easy to use\n",
    "    `gpflux.optimization.NatGradModel`, which is required for combining\n",
    "    GPflow's `NaturalGradient` optimizer with Keras. `model_class` needs to be\n",
    "    a constructor that has the same semantics as `tf.keras.Model.__init__`.\n",
    "    \"\"\"\n",
    "    layer1, layer2, likelihood_layer = create_layers()\n",
    "    dgp = gpflux.models.DeepGP([layer1, layer2], likelihood_layer, default_model_class=model_class)\n",
    "    return dgp"
   ]
  },
  {
   "cell_type": "code",
   "execution_count": 8,
   "id": "5c4d6678",
   "metadata": {
    "execution": {
     "iopub.execute_input": "2022-02-02T17:08:49.397798Z",
     "iopub.status.busy": "2022-02-02T17:08:49.396781Z",
     "iopub.status.idle": "2022-02-02T17:08:49.398314Z",
     "shell.execute_reply": "2022-02-02T17:08:49.398681Z"
    }
   },
   "outputs": [],
   "source": [
    "batch_size = 2\n",
    "num_epochs = ci_niter(200)"
   ]
  },
  {
   "cell_type": "code",
   "execution_count": 9,
   "id": "d68bad48",
   "metadata": {
    "execution": {
     "iopub.execute_input": "2022-02-02T17:08:49.406951Z",
     "iopub.status.busy": "2022-02-02T17:08:49.406427Z",
     "iopub.status.idle": "2022-02-02T17:08:54.493906Z",
     "shell.execute_reply": "2022-02-02T17:08:54.494451Z"
    }
   },
   "outputs": [
    {
     "name": "stderr",
     "output_type": "stream",
     "text": [
      "2022-02-02 17:08:49.403059: W tensorflow/stream_executor/platform/default/dso_loader.cc:64] Could not load dynamic library 'libcuda.so.1'; dlerror: libcuda.so.1: cannot open shared object file: No such file or directory; LD_LIBRARY_PATH: /opt/hostedtoolcache/Python/3.7.12/x64/lib\n",
      "2022-02-02 17:08:49.403088: W tensorflow/stream_executor/cuda/cuda_driver.cc:326] failed call to cuInit: UNKNOWN ERROR (303)\n",
      "2022-02-02 17:08:49.403107: I tensorflow/stream_executor/cuda/cuda_diagnostics.cc:156] kernel driver does not appear to be running on this host (fv-az238-437): /proc/driver/nvidia/version does not exist\n",
      "2022-02-02 17:08:49.403417: I tensorflow/core/platform/cpu_feature_guard.cc:142] This TensorFlow binary is optimized with oneAPI Deep Neural Network Library (oneDNN) to use the following CPU instructions in performance-critical operations:  AVX2 AVX512F FMA\n",
      "To enable them in other operations, rebuild TensorFlow with the appropriate compiler flags.\n",
      "/opt/hostedtoolcache/Python/3.7.12/x64/lib/python3.7/site-packages/ipykernel_launcher.py:16: DeprecationWarning: Call to deprecated class TrackableLayer. (GPflux's `TrackableLayer` was prior to TF2.5 used to collect GPflow variables in subclassed layers. As of TF 2.5, `tf.Module` supports this natively and there is no need for `TrackableLayer` anymore. It will be removed in GPflux version `1.0.0`.)\n",
      "  app.launch_new_instance()\n"
     ]
    },
    {
     "name": "stdout",
     "output_type": "stream",
     "text": [
      "WARNING:tensorflow:From /opt/hostedtoolcache/Python/3.7.12/x64/lib/python3.7/site-packages/tensorflow_probability/python/distributions/distribution.py:346: calling MultivariateNormalDiag.__init__ (from tensorflow_probability.python.distributions.mvn_diag) with scale_identity_multiplier is deprecated and will be removed after 2020-01-01.\n",
      "Instructions for updating:\n",
      "`scale_identity_multiplier` is deprecated; please combine it into `scale_diag` directly instead.\n"
     ]
    },
    {
     "name": "stderr",
     "output_type": "stream",
     "text": [
      "2022-02-02 17:08:49.863655: W tensorflow/python/util/util.cc:348] Sets are not currently considered sequences, but this may change in the future, so consider avoiding using them.\n"
     ]
    },
    {
     "name": "stderr",
     "output_type": "stream",
     "text": [
      "2022-02-02 17:08:50.547778: I tensorflow/compiler/mlir/mlir_graph_optimization_pass.cc:176] None of the MLIR Optimization Passes are enabled (registered 2)\n",
      "2022-02-02 17:08:50.548250: I tensorflow/core/platform/profile_utils/cpu_utils.cc:114] CPU Frequency: 2793435000 Hz\n"
     ]
    },
    {
     "name": "stdout",
     "output_type": "stream",
     "text": [
      "Epoch 1/2\n"
     ]
    },
    {
     "name": "stdout",
     "output_type": "stream",
     "text": [
      "\r",
      "  1/100 [..............................] - ETA: 6:01 - loss: 59.0718 - gp_layer_prior_kl: 0.2668 - gp_layer_1_prior_kl: 0.0000e+00"
     ]
    },
    {
     "name": "stdout",
     "output_type": "stream",
     "text": [
      "\b\b\b\b\b\b\b\b\b\b\b\b\b\b\b\b\b\b\b\b\b\b\b\b\b\b\b\b\b\b\b\b\b\b\b\b\b\b\b\b\b\b\b\b\b\b\b\b\b\b\b\b\b\b\b\b\b\b\b\b\b\b\b\b\b\b\b\b\b\b\b\b\b\b\b\b\b\b\b\b\b\b\b\b\b\b\b\b\b\b\b\b\b\b\b\b\b\b\b\b\b\b\b\b\b\b\b\b\b\b\b\b\b\b\b\b\b\b\b\b\b\b\b\b\b\b\b\b\b\b\r",
      " 38/100 [==========>...................] - ETA: 0s - loss: 14.7757 - gp_layer_prior_kl: 0.0864 - gp_layer_1_prior_kl: 0.0758      "
     ]
    },
    {
     "name": "stdout",
     "output_type": "stream",
     "text": [
      "\b\b\b\b\b\b\b\b\b\b\b\b\b\b\b\b\b\b\b\b\b\b\b\b\b\b\b\b\b\b\b\b\b\b\b\b\b\b\b\b\b\b\b\b\b\b\b\b\b\b\b\b\b\b\b\b\b\b\b\b\b\b\b\b\b\b\b\b\b\b\b\b\b\b\b\b\b\b\b\b\b\b\b\b\b\b\b\b\b\b\b\b\b\b\b\b\b\b\b\b\b\b\b\b\b\b\b\b\b\b\b\b\b\b\b\b\b\b\b\b\b\b\b\b\r",
      " 77/100 [======================>.......] - ETA: 0s - loss: 8.3431 - gp_layer_prior_kl: 0.0778 - gp_layer_1_prior_kl: 0.0986 "
     ]
    },
    {
     "name": "stdout",
     "output_type": "stream",
     "text": [
      "\b\b\b\b\b\b\b\b\b\b\b\b\b\b\b\b\b\b\b\b\b\b\b\b\b\b\b\b\b\b\b\b\b\b\b\b\b\b\b\b\b\b\b\b\b\b\b\b\b\b\b\b\b\b\b\b\b\b\b\b\b\b\b\b\b\b\b\b\b\b\b\b\b\b\b\b\b\b\b\b\b\b\b\b\b\b\b\b\b\b\b\b\b\b\b\b\b\b\b\b\b\b\b\b\b\b\b\b\b\b\b\b\b\b\b\b\b\b\b\b\b\b\b\r",
      "100/100 [==============================] - 4s 1ms/step - loss: 6.7071 - gp_layer_prior_kl: 0.0737 - gp_layer_1_prior_kl: 0.1001\n"
     ]
    },
    {
     "name": "stdout",
     "output_type": "stream",
     "text": [
      "Epoch 2/2\n",
      "\r",
      "  1/100 [..............................] - ETA: 0s - loss: 1.1744 - gp_layer_prior_kl: 0.0522 - gp_layer_1_prior_kl: 0.0980"
     ]
    },
    {
     "name": "stdout",
     "output_type": "stream",
     "text": [
      "\b\b\b\b\b\b\b\b\b\b\b\b\b\b\b\b\b\b\b\b\b\b\b\b\b\b\b\b\b\b\b\b\b\b\b\b\b\b\b\b\b\b\b\b\b\b\b\b\b\b\b\b\b\b\b\b\b\b\b\b\b\b\b\b\b\b\b\b\b\b\b\b\b\b\b\b\b\b\b\b\b\b\b\b\b\b\b\b\b\b\b\b\b\b\b\b\b\b\b\b\b\b\b\b\b\b\b\b\b\b\b\b\b\b\b\b\b\b\b\b\b\b\b\r",
      " 38/100 [==========>...................] - ETA: 0s - loss: 1.0609 - gp_layer_prior_kl: 0.0591 - gp_layer_1_prior_kl: 0.0874"
     ]
    },
    {
     "name": "stdout",
     "output_type": "stream",
     "text": [
      "\b\b\b\b\b\b\b\b\b\b\b\b\b\b\b\b\b\b\b\b\b\b\b\b\b\b\b\b\b\b\b\b\b\b\b\b\b\b\b\b\b\b\b\b\b\b\b\b\b\b\b\b\b\b\b\b\b\b\b\b\b\b\b\b\b\b\b\b\b\b\b\b\b\b\b\b\b\b\b\b\b\b\b\b\b\b\b\b\b\b\b\b\b\b\b\b\b\b\b\b\b\b\b\b\b\b\b\b\b\b\b\b\b\b\b\b\b\b\b\b\b\b\b\r",
      " 74/100 [=====================>........] - ETA: 0s - loss: 0.8392 - gp_layer_prior_kl: 0.0620 - gp_layer_1_prior_kl: 0.0837"
     ]
    },
    {
     "name": "stdout",
     "output_type": "stream",
     "text": [
      "\b\b\b\b\b\b\b\b\b\b\b\b\b\b\b\b\b\b\b\b\b\b\b\b\b\b\b\b\b\b\b\b\b\b\b\b\b\b\b\b\b\b\b\b\b\b\b\b\b\b\b\b\b\b\b\b\b\b\b\b\b\b\b\b\b\b\b\b\b\b\b\b\b\b\b\b\b\b\b\b\b\b\b\b\b\b\b\b\b\b\b\b\b\b\b\b\b\b\b\b\b\b\b\b\b\b\b\b\b\b\b\b\b\b\b\b\b\b\b\b\b\b\b\r",
      "100/100 [==============================] - 0s 1ms/step - loss: 0.8774 - gp_layer_prior_kl: 0.0637 - gp_layer_1_prior_kl: 0.0828\n"
     ]
    }
   ],
   "source": [
    "dgp = create_model(tf.keras.Model)\n",
    "\n",
    "callbacks = [\n",
    "    tf.keras.callbacks.ReduceLROnPlateau(\n",
    "        monitor=\"loss\",\n",
    "        patience=5,\n",
    "        factor=0.95,\n",
    "        verbose=1,\n",
    "        min_lr=1e-6,\n",
    "    )\n",
    "]\n",
    "\n",
    "dgp_train = dgp.as_training_model()\n",
    "dgp_train.compile(tf.optimizers.Adam(learning_rate=0.1))\n",
    "\n",
    "history = dgp_train.fit(\n",
    "    {\"inputs\": X, \"targets\": Y}, batch_size=batch_size, epochs=num_epochs, callbacks=callbacks\n",
    ")"
   ]
  },
  {
   "cell_type": "code",
   "execution_count": 10,
   "id": "5f6f08a4",
   "metadata": {
    "execution": {
     "iopub.execute_input": "2022-02-02T17:08:54.501375Z",
     "iopub.status.busy": "2022-02-02T17:08:54.500869Z",
     "iopub.status.idle": "2022-02-02T17:08:58.585719Z",
     "shell.execute_reply": "2022-02-02T17:08:58.585277Z"
    }
   },
   "outputs": [
    {
     "name": "stderr",
     "output_type": "stream",
     "text": [
      "/opt/hostedtoolcache/Python/3.7.12/x64/lib/python3.7/site-packages/ipykernel_launcher.py:16: DeprecationWarning: Call to deprecated class TrackableLayer. (GPflux's `TrackableLayer` was prior to TF2.5 used to collect GPflow variables in subclassed layers. As of TF 2.5, `tf.Module` supports this natively and there is no need for `TrackableLayer` anymore. It will be removed in GPflux version `1.0.0`.)\n",
      "  app.launch_new_instance()\n"
     ]
    },
    {
     "name": "stdout",
     "output_type": "stream",
     "text": [
      "Epoch 1/2\n"
     ]
    },
    {
     "name": "stdout",
     "output_type": "stream",
     "text": [
      "Executing NatGradModel backwards pass\n"
     ]
    },
    {
     "name": "stdout",
     "output_type": "stream",
     "text": [
      "Executing NatGradModel backwards pass\n"
     ]
    },
    {
     "name": "stdout",
     "output_type": "stream",
     "text": [
      "\r",
      "  1/100 [..............................] - ETA: 5:08 - loss: 63.3170 - gp_layer_2_prior_kl: 0.2668 - gp_layer_3_prior_kl: 0.0000e+00"
     ]
    },
    {
     "name": "stdout",
     "output_type": "stream",
     "text": [
      "\b\b\b\b\b\b\b\b\b\b\b\b\b\b\b\b\b\b\b\b\b\b\b\b\b\b\b\b\b\b\b\b\b\b\b\b\b\b\b\b\b\b\b\b\b\b\b\b\b\b\b\b\b\b\b\b\b\b\b\b\b\b\b\b\b\b\b\b\b\b\b\b\b\b\b\b\b\b\b\b\b\b\b\b\b\b\b\b\b\b\b\b\b\b\b\b\b\b\b\b\b\b\b\b\b\b\b\b\b\b\b\b\b\b\b\b\b\b\b\b\b\b\b\b\b\b\b\b\b\b\b\b\r",
      " 35/100 [=========>....................] - ETA: 0s - loss: 11.0426 - gp_layer_2_prior_kl: 0.2667 - gp_layer_3_prior_kl: 0.0170      "
     ]
    },
    {
     "name": "stdout",
     "output_type": "stream",
     "text": [
      "\b\b\b\b\b\b\b\b\b\b\b\b\b\b\b\b\b\b\b\b\b\b\b\b\b\b\b\b\b\b\b\b\b\b\b\b\b\b\b\b\b\b\b\b\b\b\b\b\b\b\b\b\b\b\b\b\b\b\b\b\b\b\b\b\b\b\b\b\b\b\b\b\b\b\b\b\b\b\b\b\b\b\b\b\b\b\b\b\b\b\b\b\b\b\b\b\b\b\b\b\b\b\b\b\b\b\b\b\b\b\b\b\b\b\b\b\b\b\b\b\b\b\b\b\b\b\r",
      " 72/100 [====================>.........] - ETA: 0s - loss: 6.4398 - gp_layer_2_prior_kl: 0.2666 - gp_layer_3_prior_kl: 0.0223 "
     ]
    },
    {
     "name": "stdout",
     "output_type": "stream",
     "text": [
      "\b\b\b\b\b\b\b\b\b\b\b\b\b\b\b\b\b\b\b\b\b\b\b\b\b\b\b\b\b\b\b\b\b\b\b\b\b\b\b\b\b\b\b\b\b\b\b\b\b\b\b\b\b\b\b\b\b\b\b\b\b\b\b\b\b\b\b\b\b\b\b\b\b\b\b\b\b\b\b\b\b\b\b\b\b\b\b\b\b\b\b\b\b\b\b\b\b\b\b\b\b\b\b\b\b\b\b\b\b\b\b\b\b\b\b\b\b\b\b\b\b\b\b\b\b\r",
      "100/100 [==============================] - 3s 1ms/step - loss: 5.0270 - gp_layer_2_prior_kl: 0.2665 - gp_layer_3_prior_kl: 0.0247\n"
     ]
    },
    {
     "name": "stdout",
     "output_type": "stream",
     "text": [
      "Epoch 2/2\n",
      "\r",
      "  1/100 [..............................] - ETA: 0s - loss: 0.8779 - gp_layer_2_prior_kl: 0.2660 - gp_layer_3_prior_kl: 0.0321"
     ]
    },
    {
     "name": "stdout",
     "output_type": "stream",
     "text": [
      "\b\b\b\b\b\b\b\b\b\b\b\b\b\b\b\b\b\b\b\b\b\b\b\b\b\b\b\b\b\b\b\b\b\b\b\b\b\b\b\b\b\b\b\b\b\b\b\b\b\b\b\b\b\b\b\b\b\b\b\b\b\b\b\b\b\b\b\b\b\b\b\b\b\b\b\b\b\b\b\b\b\b\b\b\b\b\b\b\b\b\b\b\b\b\b\b\b\b\b\b\b\b\b\b\b\b\b\b\b\b\b\b\b\b\b\b\b\b\b\b\b\b\b\b\b\r",
      " 36/100 [=========>....................] - ETA: 0s - loss: 1.1181 - gp_layer_2_prior_kl: 0.2659 - gp_layer_3_prior_kl: 0.0330"
     ]
    },
    {
     "name": "stdout",
     "output_type": "stream",
     "text": [
      "\b\b\b\b\b\b\b\b\b\b\b\b\b\b\b\b\b\b\b\b\b\b\b\b\b\b\b\b\b\b\b\b\b\b\b\b\b\b\b\b\b\b\b\b\b\b\b\b\b\b\b\b\b\b\b\b\b\b\b\b\b\b\b\b\b\b\b\b\b\b\b\b\b\b\b\b\b\b\b\b\b\b\b\b\b\b\b\b\b\b\b\b\b\b\b\b\b\b\b\b\b\b\b\b\b\b\b\b\b\b\b\b\b\b\b\b\b\b\b\b\b\b\b\b\b\r",
      " 72/100 [====================>.........] - ETA: 0s - loss: 1.1110 - gp_layer_2_prior_kl: 0.2658 - gp_layer_3_prior_kl: 0.0341"
     ]
    },
    {
     "name": "stdout",
     "output_type": "stream",
     "text": [
      "\b\b\b\b\b\b\b\b\b\b\b\b\b\b\b\b\b\b\b\b\b\b\b\b\b\b\b\b\b\b\b\b\b\b\b\b\b\b\b\b\b\b\b\b\b\b\b\b\b\b\b\b\b\b\b\b\b\b\b\b\b\b\b\b\b\b\b\b\b\b\b\b\b\b\b\b\b\b\b\b\b\b\b\b\b\b\b\b\b\b\b\b\b\b\b\b\b\b\b\b\b\b\b\b\b\b\b\b\b\b\b\b\b\b\b\b\b\b\b\b\b\b\b\b\b\r",
      "100/100 [==============================] - 0s 1ms/step - loss: 1.0906 - gp_layer_2_prior_kl: 0.2656 - gp_layer_3_prior_kl: 0.0351\n"
     ]
    }
   ],
   "source": [
    "dgp_natgrad = create_model(gpflux.optimization.NatGradModel)\n",
    "\n",
    "callbacks = [\n",
    "    tf.keras.callbacks.ReduceLROnPlateau(\n",
    "        monitor=\"loss\",\n",
    "        patience=5,\n",
    "        factor=0.95,\n",
    "        verbose=1,\n",
    "        min_lr=1e-6,\n",
    "    )\n",
    "]\n",
    "\n",
    "dgp_natgrad_train = dgp_natgrad.as_training_model()\n",
    "dgp_natgrad_train.natgrad_layers = (\n",
    "    True  # we want all (here two) GPLayer instances trained by NaturalGradient\n",
    ")\n",
    "# alternatively, we could set `natgrad_layers` explicitly to the GPLayer instances inside the model\n",
    "dgp_natgrad_train.compile(\n",
    "    [\n",
    "        gpflow.optimizers.NaturalGradient(gamma=0.05),\n",
    "        gpflow.optimizers.NaturalGradient(gamma=0.05),\n",
    "        tf.optimizers.Adam(learning_rate=0.1),\n",
    "    ]\n",
    ")\n",
    "\n",
    "history_natgrad = dgp_natgrad_train.fit(\n",
    "    {\"inputs\": X, \"targets\": Y}, batch_size=batch_size, epochs=num_epochs, callbacks=callbacks\n",
    ")"
   ]
  },
  {
   "cell_type": "code",
   "execution_count": 11,
   "id": "e955dd04",
   "metadata": {
    "execution": {
     "iopub.execute_input": "2022-02-02T17:08:58.589952Z",
     "iopub.status.busy": "2022-02-02T17:08:58.589490Z",
     "iopub.status.idle": "2022-02-02T17:08:59.101221Z",
     "shell.execute_reply": "2022-02-02T17:08:59.100760Z"
    }
   },
   "outputs": [],
   "source": [
    "dgp_test = dgp.as_prediction_model()\n",
    "res = dgp_test(X)"
   ]
  },
  {
   "cell_type": "code",
   "execution_count": 12,
   "id": "7dc41cd2",
   "metadata": {
    "execution": {
     "iopub.execute_input": "2022-02-02T17:08:59.117322Z",
     "iopub.status.busy": "2022-02-02T17:08:59.115449Z",
     "iopub.status.idle": "2022-02-02T17:08:59.224061Z",
     "shell.execute_reply": "2022-02-02T17:08:59.224676Z"
    }
   },
   "outputs": [
    {
     "data": {
      "image/png": "[encoded data removed]",
      "text/plain": [
       "<Figure size 432x288 with 1 Axes>"
      ]
     },
     "metadata": {
      "needs_background": "light"
     },
     "output_type": "display_data"
    }
   ],
   "source": [
    "plt.plot(X, Y, \"x\")\n",
    "plt.errorbar(X.squeeze(), np.squeeze(res.y_mean), np.sqrt(np.squeeze(res.y_var)), ls=\"\")\n",
    "plt.show()"
   ]
  },
  {
   "cell_type": "code",
   "execution_count": 13,
   "id": "e443d9ed",
   "metadata": {
    "execution": {
     "iopub.execute_input": "2022-02-02T17:08:59.239909Z",
     "iopub.status.busy": "2022-02-02T17:08:59.238732Z",
     "iopub.status.idle": "2022-02-02T17:08:59.329274Z",
     "shell.execute_reply": "2022-02-02T17:08:59.330015Z"
    }
   },
   "outputs": [
    {
     "data": {
      "image/png": "[encoded data removed]",
      "text/plain": [
       "<Figure size 432x288 with 1 Axes>"
      ]
     },
     "metadata": {
      "needs_background": "light"
     },
     "output_type": "display_data"
    }
   ],
   "source": [
    "plt.plot(history.history[\"loss\"], label=\"Adam\")\n",
    "plt.plot(history_natgrad.history[\"loss\"], label=\"NatGrad\")\n",
    "plt.show()"
   ]
  }
 ],
 "metadata": {
  "jupytext": {
   "formats": "ipynb,py:percent"
  },
  "kernelspec": {
   "display_name": "Python 3",
   "language": "python",
   "name": "python3"
  },
  "language_info": {
   "codemirror_mode": {
    "name": "ipython",
    "version": 3
   },
   "file_extension": ".py",
   "mimetype": "text/x-python",
   "name": "python",
   "nbconvert_exporter": "python",
   "pygments_lexer": "ipython3",
   "version": "3.7.12"
  }
 },
 "nbformat": 4,
 "nbformat_minor": 5
}
