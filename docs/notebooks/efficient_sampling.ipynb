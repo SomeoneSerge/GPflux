{
 "cells": [
  {
   "cell_type": "markdown",
   "id": "7d763450",
   "metadata": {
    "cell_marker": "\"\"\"",
    "lines_to_next_cell": 0
   },
   "source": [
    "# Efficient sampling with Gaussian processes and Random Fourier Features\n",
    "\n",
    "Gaussian processes (GPs) provide a mathematically elegant framework for learning unknown functions from data. They are robust to overfitting, allow to incorporate prior assumptions into the model and provide calibrated uncertainty estimates for their predictions. This makes them prime candidates in settings where data is scarce, noisy or very costly to obtain, and are natural tools in applications such as Bayesian optimisation (BO).\n",
    "\n",
    "Despite their favorable properties, the use of GPs still has practical limitations. One of them is the computational complexity to draw predictive samples from the model, which quickly becomes prohibitive as the sample size grows, and creates a well-known bottleneck for GP-based Thompson sampling (GP-TS) for instance. \n",
    "Recent work <cite data-cite=\"wilson2020efficiently\"/> proposes to combine GP’s weight-space and function-space views to draw samples more efficiently from (approximate) posterior GPs with encouraging results in low-dimensional regimes.\n",
    "\n",
    "In GPflux, this functionality is unlocked by grouping a kernel (e.g., `gpflow.kernels.Matern52`) with its feature decomposition using `gpflux.sampling.KernelWithFeatureDecomposition`. See the notebooks on [weight space approximation](weight_space_approximation.ipynb) and [efficient posterior sampling](efficient_posterior_sampling.ipynb) for a thorough explanation."
   ]
  },
  {
   "cell_type": "code",
   "execution_count": 1,
   "id": "b3169880",
   "metadata": {
    "execution": {
     "iopub.execute_input": "2022-02-02T17:07:29.478105Z",
     "iopub.status.busy": "2022-02-02T17:07:29.477564Z",
     "iopub.status.idle": "2022-02-02T17:07:31.828338Z",
     "shell.execute_reply": "2022-02-02T17:07:31.827738Z"
    }
   },
   "outputs": [
    {
     "name": "stderr",
     "output_type": "stream",
     "text": [
      "2022-02-02 17:07:29.700930: W tensorflow/stream_executor/platform/default/dso_loader.cc:64] Could not load dynamic library 'libcudart.so.11.0'; dlerror: libcudart.so.11.0: cannot open shared object file: No such file or directory; LD_LIBRARY_PATH: /opt/hostedtoolcache/Python/3.7.12/x64/lib\n",
      "2022-02-02 17:07:29.700960: I tensorflow/stream_executor/cuda/cudart_stub.cc:29] Ignore above cudart dlerror if you do not have a GPU set up on your machine.\n"
     ]
    }
   ],
   "source": [
    "import numpy as np\n",
    "import tensorflow as tf\n",
    "import matplotlib.pyplot as plt\n",
    "\n",
    "import gpflow\n",
    "import gpflux\n",
    "\n",
    "from gpflow.config import default_float\n",
    "\n",
    "from gpflux.layers.basis_functions.fourier_features import RandomFourierFeaturesCosine\n",
    "from gpflux.sampling import KernelWithFeatureDecomposition\n",
    "from gpflux.models.deep_gp import sample_dgp\n",
    "\n",
    "tf.keras.backend.set_floatx(\"float64\")"
   ]
  },
  {
   "cell_type": "markdown",
   "id": "cdb2ae27",
   "metadata": {
    "cell_marker": "\"\"\""
   },
   "source": [
    "## Load Snelson dataset"
   ]
  },
  {
   "cell_type": "code",
   "execution_count": 2,
   "id": "2c3a8f78",
   "metadata": {
    "execution": {
     "iopub.execute_input": "2022-02-02T17:07:31.832545Z",
     "iopub.status.busy": "2022-02-02T17:07:31.832053Z",
     "iopub.status.idle": "2022-02-02T17:07:31.835602Z",
     "shell.execute_reply": "2022-02-02T17:07:31.835977Z"
    }
   },
   "outputs": [],
   "source": [
    "d = np.load(\"../../tests/snelson1d.npz\")\n",
    "X, Y = data = d[\"X\"], d[\"Y\"]\n",
    "num_data, input_dim = X.shape"
   ]
  },
  {
   "cell_type": "markdown",
   "id": "c80e13ea",
   "metadata": {
    "cell_marker": "r\"\"\""
   },
   "source": [
    "## Setting up the kernel and its feature decomposition\n",
    "\n",
    "The `KernelWithFeatureDecomposition` instance represents a kernel together with its finite feature decomposition,\n",
    "$$\n",
    "k(x, x') = \\sum_{i=0}^L \\lambda_i \\phi_i(x) \\phi_i(x'),\n",
    "$$\n",
    "where $\\lambda_i$ and $\\phi_i(\\cdot)$ are the coefficients (eigenvalues) and features (eigenfunctions), respectively, and $L$ is the finite cutoff. See [the notebook on weight space approximation](weight_space_approximation.ipynb) for a detailed explanation of how to construct this decomposition using Random Fourier Features (RFF)."
   ]
  },
  {
   "cell_type": "code",
   "execution_count": 3,
   "id": "36fccc36",
   "metadata": {
    "execution": {
     "iopub.execute_input": "2022-02-02T17:07:31.844414Z",
     "iopub.status.busy": "2022-02-02T17:07:31.843946Z",
     "iopub.status.idle": "2022-02-02T17:07:31.865712Z",
     "shell.execute_reply": "2022-02-02T17:07:31.865292Z"
    }
   },
   "outputs": [
    {
     "name": "stderr",
     "output_type": "stream",
     "text": [
      "2022-02-02 17:07:31.840751: W tensorflow/stream_executor/platform/default/dso_loader.cc:64] Could not load dynamic library 'libcuda.so.1'; dlerror: libcuda.so.1: cannot open shared object file: No such file or directory; LD_LIBRARY_PATH: /opt/hostedtoolcache/Python/3.7.12/x64/lib\n",
      "2022-02-02 17:07:31.840779: W tensorflow/stream_executor/cuda/cuda_driver.cc:326] failed call to cuInit: UNKNOWN ERROR (303)\n",
      "2022-02-02 17:07:31.840797: I tensorflow/stream_executor/cuda/cuda_diagnostics.cc:156] kernel driver does not appear to be running on this host (fv-az238-437): /proc/driver/nvidia/version does not exist\n",
      "2022-02-02 17:07:31.841050: I tensorflow/core/platform/cpu_feature_guard.cc:142] This TensorFlow binary is optimized with oneAPI Deep Neural Network Library (oneDNN) to use the following CPU instructions in performance-critical operations:  AVX2 AVX512F FMA\n",
      "To enable them in other operations, rebuild TensorFlow with the appropriate compiler flags.\n",
      "2022-02-02 17:07:31.855123: W tensorflow/python/util/util.cc:348] Sets are not currently considered sequences, but this may change in the future, so consider avoiding using them.\n"
     ]
    }
   ],
   "source": [
    "kernel = gpflow.kernels.Matern52()\n",
    "Z = np.linspace(X.min(), X.max(), 10).reshape(-1, 1).astype(np.float64)\n",
    "\n",
    "inducing_variable = gpflow.inducing_variables.InducingPoints(Z)\n",
    "gpflow.utilities.set_trainable(inducing_variable, False)\n",
    "\n",
    "num_rff = 1000\n",
    "eigenfunctions = RandomFourierFeaturesCosine(kernel, num_rff, dtype=default_float())\n",
    "eigenvalues = np.ones((num_rff, 1), dtype=default_float())\n",
    "kernel_with_features = KernelWithFeatureDecomposition(kernel, eigenfunctions, eigenvalues)"
   ]
  },
  {
   "cell_type": "markdown",
   "id": "0f7d7016",
   "metadata": {
    "cell_marker": "\"\"\"",
    "lines_to_next_cell": 0
   },
   "source": [
    "## Building and training the single-layer GP\n",
    "\n",
    "### Initialise the single-layer GP\n",
    "Because `KernelWithFeatureDecomposition` is just a `gpflow.kernels.Kernel`, we can construct a GP layer with it."
   ]
  },
  {
   "cell_type": "code",
   "execution_count": 4,
   "id": "fda741e5",
   "metadata": {
    "execution": {
     "iopub.execute_input": "2022-02-02T17:07:31.871072Z",
     "iopub.status.busy": "2022-02-02T17:07:31.870625Z",
     "iopub.status.idle": "2022-02-02T17:07:32.568581Z",
     "shell.execute_reply": "2022-02-02T17:07:32.568125Z"
    },
    "lines_to_next_cell": 0
   },
   "outputs": [
    {
     "name": "stderr",
     "output_type": "stream",
     "text": [
      "/home/runner/work/GPflux/GPflux/gpflux/layers/gp_layer.py:199: UserWarning: Could not verify the compatibility of the `kernel`, `inducing_variable` and `mean_function`. We advise using `gpflux.helpers.construct_*` to create compatible kernels and inducing variables. As `num_latent_gps=1` has been specified explicitly, this will be used to create the `q_mu` and `q_sqrt` parameters.\n",
      "  \"Could not verify the compatibility of the `kernel`, `inducing_variable` \"\n",
      "/opt/hostedtoolcache/Python/3.7.12/x64/lib/python3.7/site-packages/ipykernel_launcher.py:9: DeprecationWarning: Call to deprecated class TrackableLayer. (GPflux's `TrackableLayer` was prior to TF2.5 used to collect GPflow variables in subclassed layers. As of TF 2.5, `tf.Module` supports this natively and there is no need for `TrackableLayer` anymore. It will be removed in GPflux version `1.0.0`.)\n",
      "  if __name__ == '__main__':\n"
     ]
    },
    {
     "name": "stdout",
     "output_type": "stream",
     "text": [
      "WARNING:tensorflow:From /opt/hostedtoolcache/Python/3.7.12/x64/lib/python3.7/site-packages/tensorflow_probability/python/distributions/distribution.py:346: calling MultivariateNormalDiag.__init__ (from tensorflow_probability.python.distributions.mvn_diag) with scale_identity_multiplier is deprecated and will be removed after 2020-01-01.\n",
      "Instructions for updating:\n",
      "`scale_identity_multiplier` is deprecated; please combine it into `scale_diag` directly instead.\n"
     ]
    }
   ],
   "source": [
    "layer = gpflux.layers.GPLayer(\n",
    "    kernel_with_features,\n",
    "    inducing_variable,\n",
    "    num_data,\n",
    "    whiten=True,\n",
    "    num_latent_gps=1,\n",
    "    mean_function=gpflow.mean_functions.Zero(),\n",
    ")\n",
    "likelihood_layer = gpflux.layers.LikelihoodLayer(gpflow.likelihoods.Gaussian())  # noqa: E231\n",
    "dgp = gpflux.models.DeepGP([layer], likelihood_layer)\n",
    "model = dgp.as_training_model()"
   ]
  },
  {
   "cell_type": "markdown",
   "id": "329a9f79",
   "metadata": {
    "cell_marker": "\"\"\""
   },
   "source": [
    "### Fit model to data"
   ]
  },
  {
   "cell_type": "code",
   "execution_count": 5,
   "id": "0e42bd06",
   "metadata": {
    "execution": {
     "iopub.execute_input": "2022-02-02T17:07:32.579077Z",
     "iopub.status.busy": "2022-02-02T17:07:32.575987Z",
     "iopub.status.idle": "2022-02-02T17:07:35.591153Z",
     "shell.execute_reply": "2022-02-02T17:07:35.590294Z"
    },
    "lines_to_next_cell": 0
   },
   "outputs": [
    {
     "name": "stderr",
     "output_type": "stream",
     "text": [
      "2022-02-02 17:07:32.757101: I tensorflow/compiler/mlir/mlir_graph_optimization_pass.cc:176] None of the MLIR Optimization Passes are enabled (registered 2)\n",
      "2022-02-02 17:07:32.757464: I tensorflow/core/platform/profile_utils/cpu_utils.cc:114] CPU Frequency: 2793435000 Hz\n"
     ]
    }
   ],
   "source": [
    "model.compile(tf.optimizers.Adam(learning_rate=0.1))\n",
    "\n",
    "callbacks = [\n",
    "    tf.keras.callbacks.ReduceLROnPlateau(\n",
    "        monitor=\"loss\",\n",
    "        patience=5,\n",
    "        factor=0.95,\n",
    "        verbose=0,\n",
    "        min_lr=1e-6,\n",
    "    )\n",
    "]\n",
    "\n",
    "history = model.fit(\n",
    "    {\"inputs\": X, \"targets\": Y},\n",
    "    batch_size=num_data,\n",
    "    epochs=100,\n",
    "    callbacks=callbacks,\n",
    "    verbose=0,\n",
    ")"
   ]
  },
  {
   "cell_type": "markdown",
   "id": "0653e135",
   "metadata": {
    "cell_marker": "\"\"\""
   },
   "source": [
    "## Drawing samples\n",
    "\n",
    "Now that the model is trained we can draw efficient and consistent samples from the posterior GP. By \"consistent\" we mean that the `sample_dgp` function returns a function object that can be evaluated multiple times at different locations, but importantly, the returned function values will come from the same GP sample. This functionality is implemented by the `gpflux.sampling.efficient_sample` function."
   ]
  },
  {
   "cell_type": "code",
   "execution_count": 6,
   "id": "76d55c77",
   "metadata": {
    "execution": {
     "iopub.execute_input": "2022-02-02T17:07:35.599225Z",
     "iopub.status.busy": "2022-02-02T17:07:35.598112Z",
     "iopub.status.idle": "2022-02-02T17:07:36.038630Z",
     "shell.execute_reply": "2022-02-02T17:07:36.037841Z"
    }
   },
   "outputs": [
    {
     "data": {
      "image/png": "[encoded data removed]",
      "text/plain": [
       "<Figure size 432x288 with 1 Axes>"
      ]
     },
     "metadata": {
      "needs_background": "light"
     },
     "output_type": "display_data"
    }
   ],
   "source": [
    "from typing import Callable\n",
    "\n",
    "x_margin = 5\n",
    "n_x = 1000\n",
    "X_test = np.linspace(X.min() - x_margin, X.max() + x_margin, n_x).reshape(-1, 1)\n",
    "\n",
    "f_mean, f_var = dgp.predict_f(X_test)\n",
    "f_scale = np.sqrt(f_var)\n",
    "\n",
    "# Plot samples\n",
    "n_sim = 10\n",
    "for _ in range(n_sim):\n",
    "    # `sample_dgp` returns a callable - which we subsequently evaluate\n",
    "    f_sample: Callable[[tf.Tensor], tf.Tensor] = sample_dgp(dgp)\n",
    "    plt.plot(X_test, f_sample(X_test).numpy())\n",
    "\n",
    "# Plot GP mean and uncertainty intervals and data\n",
    "plt.plot(X_test, f_mean, \"C0\")\n",
    "plt.plot(X_test, f_mean + f_scale, \"C0--\")\n",
    "plt.plot(X_test, f_mean - f_scale, \"C0--\")\n",
    "plt.plot(X, Y, \"kx\", alpha=0.2)\n",
    "plt.xlim(X.min() - x_margin, X.max() + x_margin)\n",
    "plt.ylim(Y.min() - x_margin, Y.max() + x_margin)\n",
    "plt.show()"
   ]
  }
 ],
 "metadata": {
  "jupytext": {
   "cell_markers": "\"\"\"",
   "encoding": "# -*- coding: utf-8 -*-",
   "formats": "ipynb,py:percent"
  },
  "kernelspec": {
   "display_name": "Python 3",
   "language": "python",
   "name": "python3"
  },
  "language_info": {
   "codemirror_mode": {
    "name": "ipython",
    "version": 3
   },
   "file_extension": ".py",
   "mimetype": "text/x-python",
   "name": "python",
   "nbconvert_exporter": "python",
   "pygments_lexer": "ipython3",
   "version": "3.7.12"
  }
 },
 "nbformat": 4,
 "nbformat_minor": 5
}
