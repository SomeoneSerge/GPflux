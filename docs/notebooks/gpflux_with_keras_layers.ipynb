{
 "cells": [
  {
   "cell_type": "markdown",
   "id": "424775b2",
   "metadata": {
    "cell_marker": "\"\"\""
   },
   "source": [
    "# Hybrid Deep GP models: combining GP and Neural Network layers\n",
    "\n",
    "In this notebook we show how to combine `gpflux.layers.GPLayer` layers with plain Keras neural network layers. This allows one to build hybrid deep GP models. Compared to the other tutorials, we are also going to use Keras's `Sequential` model to build our hierarchical model and use a `gpflux.losses.LikelihoodLoss` instead of a `gpflux.layers.LikelihoodLayer`."
   ]
  },
  {
   "cell_type": "code",
   "execution_count": 1,
   "id": "b5d5976e",
   "metadata": {
    "execution": {
     "iopub.execute_input": "2022-02-02T17:08:04.979309Z",
     "iopub.status.busy": "2022-02-02T17:08:04.978831Z",
     "iopub.status.idle": "2022-02-02T17:08:07.279961Z",
     "shell.execute_reply": "2022-02-02T17:08:07.279014Z"
    }
   },
   "outputs": [
    {
     "name": "stderr",
     "output_type": "stream",
     "text": [
      "2022-02-02 17:08:05.194499: W tensorflow/stream_executor/platform/default/dso_loader.cc:64] Could not load dynamic library 'libcudart.so.11.0'; dlerror: libcudart.so.11.0: cannot open shared object file: No such file or directory; LD_LIBRARY_PATH: /opt/hostedtoolcache/Python/3.7.12/x64/lib\n",
      "2022-02-02 17:08:05.194534: I tensorflow/stream_executor/cuda/cudart_stub.cc:29] Ignore above cudart dlerror if you do not have a GPU set up on your machine.\n"
     ]
    }
   ],
   "source": [
    "import numpy as np\n",
    "import tensorflow as tf\n",
    "import matplotlib.pyplot as plt\n",
    "\n",
    "import gpflow\n",
    "import gpflux\n",
    "\n",
    "from gpflow.config import default_float\n",
    "\n",
    "tf.keras.backend.set_floatx(\"float64\")"
   ]
  },
  {
   "cell_type": "markdown",
   "id": "5f31f9e2",
   "metadata": {
    "cell_marker": "\"\"\""
   },
   "source": [
    "## Load Snelson dataset\n",
    "\n",
    "We use a simple one-dimensional dataset to allow for easy plotting. To help training we normalize the input features."
   ]
  },
  {
   "cell_type": "code",
   "execution_count": 2,
   "id": "80999d3a",
   "metadata": {
    "execution": {
     "iopub.execute_input": "2022-02-02T17:08:07.284395Z",
     "iopub.status.busy": "2022-02-02T17:08:07.283569Z",
     "iopub.status.idle": "2022-02-02T17:08:07.288434Z",
     "shell.execute_reply": "2022-02-02T17:08:07.287631Z"
    }
   },
   "outputs": [],
   "source": [
    "d = np.load(\"../../tests/snelson1d.npz\")\n",
    "X, Y = data = d[\"X\"], d[\"Y\"]\n",
    "X = (X - X.mean()) / X.std()\n",
    "num_data, input_dim = X.shape"
   ]
  },
  {
   "cell_type": "markdown",
   "id": "bc9112df",
   "metadata": {
    "cell_marker": "\"\"\""
   },
   "source": [
    "## Initialize the GP Layer\n",
    "\n",
    "As per usual we create a one-dimensional `gpflux.layers.GPLayer` with a simple `SquaredExponential` kernel and `InducingPoints` inducing variable:"
   ]
  },
  {
   "cell_type": "code",
   "execution_count": 3,
   "id": "9d39dcac",
   "metadata": {
    "execution": {
     "iopub.execute_input": "2022-02-02T17:08:07.296697Z",
     "iopub.status.busy": "2022-02-02T17:08:07.296206Z",
     "iopub.status.idle": "2022-02-02T17:08:07.324611Z",
     "shell.execute_reply": "2022-02-02T17:08:07.324214Z"
    }
   },
   "outputs": [
    {
     "name": "stderr",
     "output_type": "stream",
     "text": [
      "2022-02-02 17:08:07.292433: W tensorflow/stream_executor/platform/default/dso_loader.cc:64] Could not load dynamic library 'libcuda.so.1'; dlerror: libcuda.so.1: cannot open shared object file: No such file or directory; LD_LIBRARY_PATH: /opt/hostedtoolcache/Python/3.7.12/x64/lib\n",
      "2022-02-02 17:08:07.292464: W tensorflow/stream_executor/cuda/cuda_driver.cc:326] failed call to cuInit: UNKNOWN ERROR (303)\n",
      "2022-02-02 17:08:07.292481: I tensorflow/stream_executor/cuda/cuda_diagnostics.cc:156] kernel driver does not appear to be running on this host (fv-az238-437): /proc/driver/nvidia/version does not exist\n",
      "2022-02-02 17:08:07.292739: I tensorflow/core/platform/cpu_feature_guard.cc:142] This TensorFlow binary is optimized with oneAPI Deep Neural Network Library (oneDNN) to use the following CPU instructions in performance-critical operations:  AVX2 AVX512F FMA\n",
      "To enable them in other operations, rebuild TensorFlow with the appropriate compiler flags.\n",
      "/home/runner/work/GPflux/GPflux/gpflux/layers/gp_layer.py:176: UserWarning: Beware, no mean function was specified in the construction of the `GPLayer` so the default `gpflow.mean_functions.Identity` is being used. This mean function will only work if the input dimensionality matches the number of latent Gaussian processes in the layer.\n",
      "  \"Beware, no mean function was specified in the construction of the `GPLayer` \"\n",
      "/home/runner/work/GPflux/GPflux/gpflux/layers/gp_layer.py:199: UserWarning: Could not verify the compatibility of the `kernel`, `inducing_variable` and `mean_function`. We advise using `gpflux.helpers.construct_*` to create compatible kernels and inducing variables. As `num_latent_gps=1` has been specified explicitly, this will be used to create the `q_mu` and `q_sqrt` parameters.\n",
      "  \"Could not verify the compatibility of the `kernel`, `inducing_variable` \"\n"
     ]
    }
   ],
   "source": [
    "num_data = len(X)\n",
    "num_inducing = 10\n",
    "output_dim = Y.shape[1]\n",
    "\n",
    "kernel = gpflow.kernels.SquaredExponential()\n",
    "inducing_variable = gpflow.inducing_variables.InducingPoints(\n",
    "    np.linspace(X.min(), X.max(), num_inducing).reshape(-1, 1)\n",
    ")\n",
    "gp_layer = gpflux.layers.GPLayer(\n",
    "    kernel, inducing_variable, num_data=num_data, num_latent_gps=output_dim\n",
    ")"
   ]
  },
  {
   "cell_type": "markdown",
   "id": "31f59d23",
   "metadata": {
    "cell_marker": "\"\"\""
   },
   "source": [
    "## Sequential Keras model with GP and Neural net layers\n",
    "\n",
    "We construct a model that consists of three `tf.keras.layers.Dense` layers and a GP. The first two Dense layers are configured to have 100 units and use a ReLU non-linearity. The last neural network layers reduces the dimension to one and does not utilise a non-linearity. We can interpret these three neural network layers as performing non-linear feature warping. The final layer in the model is the GP we defined above."
   ]
  },
  {
   "cell_type": "code",
   "execution_count": 4,
   "id": "b943d2ba",
   "metadata": {
    "execution": {
     "iopub.execute_input": "2022-02-02T17:08:07.330666Z",
     "iopub.status.busy": "2022-02-02T17:08:07.329854Z",
     "iopub.status.idle": "2022-02-02T17:08:07.356830Z",
     "shell.execute_reply": "2022-02-02T17:08:07.356422Z"
    }
   },
   "outputs": [
    {
     "name": "stderr",
     "output_type": "stream",
     "text": [
      "/opt/hostedtoolcache/Python/3.7.12/x64/lib/python3.7/site-packages/ipykernel_launcher.py:4: DeprecationWarning: Call to deprecated class TrackableLayer. (GPflux's `TrackableLayer` was prior to TF2.5 used to collect GPflow variables in subclassed layers. As of TF 2.5, `tf.Module` supports this natively and there is no need for `TrackableLayer` anymore. It will be removed in GPflux version `1.0.0`.)\n",
      "  after removing the cwd from sys.path.\n",
      "2022-02-02 17:08:07.345218: W tensorflow/python/util/util.cc:348] Sets are not currently considered sequences, but this may change in the future, so consider avoiding using them.\n"
     ]
    }
   ],
   "source": [
    "likelihood = gpflow.likelihoods.Gaussian(0.1)\n",
    "\n",
    "# So that Keras can track the likelihood variance, we need to provide the likelihood as part of a \"dummy\" layer:\n",
    "likelihood_container = gpflux.layers.TrackableLayer()\n",
    "likelihood_container.likelihood = likelihood\n",
    "\n",
    "model = tf.keras.Sequential(\n",
    "    [\n",
    "        tf.keras.layers.Dense(100, activation=\"relu\"),\n",
    "        tf.keras.layers.Dense(100, activation=\"relu\"),\n",
    "        tf.keras.layers.Dense(1, activation=\"linear\"),\n",
    "        gp_layer,\n",
    "        likelihood_container,  # no-op, for discovering trainable likelihood parameters\n",
    "    ]\n",
    ")\n",
    "loss = gpflux.losses.LikelihoodLoss(likelihood)"
   ]
  },
  {
   "cell_type": "markdown",
   "id": "2672fb43",
   "metadata": {
    "cell_marker": "\"\"\""
   },
   "source": [
    "We compile our model by specifying the loss and the optimizer to use. After this is done, we fit the data and plot the trajectory of the loss:"
   ]
  },
  {
   "cell_type": "code",
   "execution_count": 5,
   "id": "936c0653",
   "metadata": {
    "execution": {
     "iopub.execute_input": "2022-02-02T17:08:07.366279Z",
     "iopub.status.busy": "2022-02-02T17:08:07.365821Z",
     "iopub.status.idle": "2022-02-02T17:08:15.491454Z",
     "shell.execute_reply": "2022-02-02T17:08:15.492092Z"
    }
   },
   "outputs": [
    {
     "name": "stderr",
     "output_type": "stream",
     "text": [
      "2022-02-02 17:08:07.617663: I tensorflow/compiler/mlir/mlir_graph_optimization_pass.cc:176] None of the MLIR Optimization Passes are enabled (registered 2)\n",
      "2022-02-02 17:08:07.618013: I tensorflow/core/platform/profile_utils/cpu_utils.cc:114] CPU Frequency: 2793435000 Hz\n"
     ]
    },
    {
     "name": "stdout",
     "output_type": "stream",
     "text": [
      "WARNING:tensorflow:From /opt/hostedtoolcache/Python/3.7.12/x64/lib/python3.7/site-packages/tensorflow_probability/python/distributions/distribution.py:346: calling MultivariateNormalDiag.__init__ (from tensorflow_probability.python.distributions.mvn_diag) with scale_identity_multiplier is deprecated and will be removed after 2020-01-01.\n",
      "Instructions for updating:\n",
      "`scale_identity_multiplier` is deprecated; please combine it into `scale_diag` directly instead.\n"
     ]
    },
    {
     "data": {
      "text/plain": [
       "[<matplotlib.lines.Line2D at 0x7f76f2dff1d0>]"
      ]
     },
     "execution_count": 5,
     "metadata": {},
     "output_type": "execute_result"
    },
    {
     "data": {
      "image/png": "[encoded data removed]",
      "text/plain": [
       "<Figure size 432x288 with 1 Axes>"
      ]
     },
     "metadata": {
      "needs_background": "light"
     },
     "output_type": "display_data"
    }
   ],
   "source": [
    "model.compile(loss=loss, optimizer=\"adam\")\n",
    "hist = model.fit(X, Y, epochs=500, verbose=0)\n",
    "plt.plot(hist.history[\"loss\"])"
   ]
  },
  {
   "cell_type": "markdown",
   "id": "25df0729",
   "metadata": {
    "cell_marker": "\"\"\""
   },
   "source": [
    "We can now inspect the final model by plotting its predictions. Note that `model(X_test)` now returns the output of the final `GPLayer` and *not* a `LikelihoodLayer`. The output of a `GPLayer` is a TFP distribution with a `mean()` and `variance()`."
   ]
  },
  {
   "cell_type": "code",
   "execution_count": 6,
   "id": "b414914d",
   "metadata": {
    "execution": {
     "iopub.execute_input": "2022-02-02T17:08:15.510601Z",
     "iopub.status.busy": "2022-02-02T17:08:15.509164Z",
     "iopub.status.idle": "2022-02-02T17:08:15.661844Z",
     "shell.execute_reply": "2022-02-02T17:08:15.661434Z"
    }
   },
   "outputs": [
    {
     "data": {
      "image/png": "[encoded data removed]",
      "text/plain": [
       "<Figure size 432x288 with 1 Axes>"
      ]
     },
     "metadata": {
      "needs_background": "light"
     },
     "output_type": "display_data"
    }
   ],
   "source": [
    "def plot(model, X, Y, ax=None):\n",
    "    if ax is None:\n",
    "        fig, ax = plt.subplots()\n",
    "\n",
    "    x_margin = 2.0\n",
    "    N_test = 100\n",
    "    X_test = np.linspace(X.min() - x_margin, X.max() + x_margin, N_test).reshape(-1, 1)\n",
    "    f_distribution = model(X_test)\n",
    "\n",
    "    mean = f_distribution.mean().numpy().squeeze()\n",
    "    var = f_distribution.variance().numpy().squeeze() + model.layers[-1].likelihood.variance.numpy()\n",
    "    X_test = X_test.squeeze()\n",
    "    lower = mean - 2 * np.sqrt(var)\n",
    "    upper = mean + 2 * np.sqrt(var)\n",
    "\n",
    "    ax.set_ylim(Y.min() - 0.5, Y.max() + 0.5)\n",
    "    ax.plot(X, Y, \"kx\", alpha=0.5)\n",
    "    ax.plot(X_test, mean, \"C1\")\n",
    "\n",
    "    ax.fill_between(X_test, lower, upper, color=\"C1\", alpha=0.3)\n",
    "\n",
    "\n",
    "plot(model, X, Y)"
   ]
  },
  {
   "cell_type": "code",
   "execution_count": 7,
   "id": "31ebf3a0",
   "metadata": {
    "execution": {
     "iopub.execute_input": "2022-02-02T17:08:15.668768Z",
     "iopub.status.busy": "2022-02-02T17:08:15.668301Z",
     "iopub.status.idle": "2022-02-02T17:08:15.688148Z",
     "shell.execute_reply": "2022-02-02T17:08:15.687756Z"
    }
   },
   "outputs": [
    {
     "data": {
      "text/html": [
       "<table>\n",
       "<thead>\n",
       "<tr><th>name  </th><th>class                      </th><th>transform       </th><th>prior  </th><th>trainable  </th><th>shape      </th><th>dtype  </th><th>value                                    </th></tr>\n",
       "</thead>\n",
       "<tbody>\n",
       "<tr><td>Sequential._self_tracked_trackables[1]._trainable_weights[0]\n",
       "Sequential._self_tracked_trackables[1].kernel       </td><td>UnliftedInitializerVariable</td><td>                </td><td>       </td><td>True       </td><td>(1, 100)   </td><td>float64</td><td>[[0.08315307, -0.09599407, -0.27765329...</td></tr>\n",
       "<tr><td>Sequential._self_tracked_trackables[1]._trainable_weights[1]\n",
       "Sequential._self_tracked_trackables[1].bias       </td><td>UnliftedInitializerVariable</td><td>                </td><td>       </td><td>True       </td><td>(100,)     </td><td>float64</td><td>[-0.01346141, 0.02719902, -0.08564639... </td></tr>\n",
       "<tr><td>Sequential._self_tracked_trackables[2]._trainable_weights[0]\n",
       "Sequential._self_tracked_trackables[2].kernel       </td><td>UnliftedInitializerVariable</td><td>                </td><td>       </td><td>True       </td><td>(100, 100) </td><td>float64</td><td>[[0.10768081, -0.12892329, 0.06674177... </td></tr>\n",
       "<tr><td>Sequential._self_tracked_trackables[2]._trainable_weights[1]\n",
       "Sequential._self_tracked_trackables[2].bias       </td><td>UnliftedInitializerVariable</td><td>                </td><td>       </td><td>True       </td><td>(100,)     </td><td>float64</td><td>[0.11095597, 0.03845157, 0.06009871...   </td></tr>\n",
       "<tr><td>Sequential._self_tracked_trackables[3]._trainable_weights[0]\n",
       "Sequential._self_tracked_trackables[3].kernel       </td><td>UnliftedInitializerVariable</td><td>                </td><td>       </td><td>True       </td><td>(100, 1)   </td><td>float64</td><td>[[-0.28870872...                         </td></tr>\n",
       "<tr><td>Sequential._self_tracked_trackables[3]._trainable_weights[1]\n",
       "Sequential._self_tracked_trackables[3].bias       </td><td>UnliftedInitializerVariable</td><td>                </td><td>       </td><td>True       </td><td>(1,)       </td><td>float64</td><td>[-0.09043389]                            </td></tr>\n",
       "<tr><td>Sequential._self_tracked_trackables[4]._metrics[0]._non_trainable_weights[0]\n",
       "Sequential._self_tracked_trackables[4]._metrics[0].total       </td><td>UnliftedInitializerVariable</td><td>                </td><td>       </td><td>False      </td><td>()         </td><td>float64</td><td>0.26125226693407627                      </td></tr>\n",
       "<tr><td>Sequential._self_tracked_trackables[4]._metrics[0]._non_trainable_weights[1]\n",
       "Sequential._self_tracked_trackables[4]._metrics[0].count       </td><td>UnliftedInitializerVariable</td><td>                </td><td>       </td><td>False      </td><td>()         </td><td>float64</td><td>8.0                                      </td></tr>\n",
       "<tr><td>Sequential._self_tracked_trackables[4]._self_tracked_trackables[1].variance\n",
       "Sequential._self_tracked_trackables[4].kernel.variance       </td><td>Parameter                  </td><td>Softplus        </td><td>       </td><td>True       </td><td>()         </td><td>float64</td><td>0.8000445721218323                       </td></tr>\n",
       "<tr><td>Sequential._self_tracked_trackables[4]._self_tracked_trackables[1].lengthscales\n",
       "Sequential._self_tracked_trackables[4].kernel.lengthscales       </td><td>Parameter                  </td><td>Softplus        </td><td>       </td><td>True       </td><td>()         </td><td>float64</td><td>0.9788853802480986                       </td></tr>\n",
       "<tr><td>Sequential._self_tracked_trackables[4]._self_tracked_trackables[2].Z\n",
       "Sequential._self_tracked_trackables[4].inducing_variable.Z       </td><td>Parameter                  </td><td>Identity        </td><td>       </td><td>True       </td><td>(10, 1)    </td><td>float64</td><td>[[-1.53646076...                         </td></tr>\n",
       "<tr><td>Sequential._self_tracked_trackables[4]._self_tracked_trackables[4]\n",
       "Sequential._self_tracked_trackables[4].q_mu       </td><td>Parameter                  </td><td>Identity        </td><td>       </td><td>True       </td><td>(10, 1)    </td><td>float64</td><td>[[-0.64148021...                         </td></tr>\n",
       "<tr><td>Sequential._self_tracked_trackables[4]._self_tracked_trackables[5]\n",
       "Sequential._self_tracked_trackables[4].q_sqrt       </td><td>Parameter                  </td><td>FillTriangular  </td><td>       </td><td>True       </td><td>(1, 10, 10)</td><td>float64</td><td>[[[0.26677521, 0., 0....                 </td></tr>\n",
       "<tr><td>Sequential._self_tracked_trackables[5]._self_tracked_trackables[0].variance\n",
       "Sequential._self_tracked_trackables[5].likelihood.variance\n",
       "Sequential._output_layers[0]._self_tracked_trackables[0].variance\n",
       "Sequential._output_layers[0].likelihood.variance\n",
       "Sequential._output_coordinates[0][0]._self_tracked_trackables[0].variance\n",
       "Sequential._output_coordinates[0][0].likelihood.variance       </td><td>Parameter                  </td><td>Softplus + Shift</td><td>       </td><td>True       </td><td>()         </td><td>float64</td><td>0.09259699560805607                      </td></tr>\n",
       "</tbody>\n",
       "</table>"
      ],
      "text/plain": [
       "<IPython.core.display.HTML object>"
      ]
     },
     "metadata": {},
     "output_type": "display_data"
    }
   ],
   "source": [
    "gpflow.utilities.print_summary(model, fmt=\"notebook\")"
   ]
  }
 ],
 "metadata": {
  "jupytext": {
   "cell_markers": "\"\"\""
  },
  "kernelspec": {
   "display_name": "Python 3",
   "language": "python",
   "name": "python3"
  },
  "language_info": {
   "codemirror_mode": {
    "name": "ipython",
    "version": 3
   },
   "file_extension": ".py",
   "mimetype": "text/x-python",
   "name": "python",
   "nbconvert_exporter": "python",
   "pygments_lexer": "ipython3",
   "version": "3.7.12"
  }
 },
 "nbformat": 4,
 "nbformat_minor": 5
}
